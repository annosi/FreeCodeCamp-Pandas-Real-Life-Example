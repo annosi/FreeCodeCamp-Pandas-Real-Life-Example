{
  "nbformat": 4,
  "nbformat_minor": 0,
  "metadata": {
    "colab": {
      "name": "Freecodecamp project 1.ipynb",
      "provenance": [],
      "authorship_tag": "ABX9TyMNTC8hs1tw6tDpDOekk81l",
      "include_colab_link": true
    },
    "kernelspec": {
      "name": "python3",
      "display_name": "Python 3"
    }
  },
  "cells": [
    {
      "cell_type": "markdown",
      "metadata": {
        "id": "view-in-github",
        "colab_type": "text"
      },
      "source": [
        "<a href=\"https://colab.research.google.com/github/annosi/FreeCodeCamp-Pandas-Real-Life-Example/blob/master/Freecodecamp_project_1.ipynb\" target=\"_parent\"><img src=\"https://colab.research.google.com/assets/colab-badge.svg\" alt=\"Open In Colab\"/></a>"
      ]
    },
    {
      "cell_type": "markdown",
      "metadata": {
        "id": "2aD9UIFsevU3"
      },
      "source": [
        "# Data Analysis with Python Projects\r\n",
        "**Mean-Variance-Standard Deviation Calculator**\r\n",
        "\r\n",
        "*This is the first python project by Ann Osi*\r\n",
        "\r\n",
        "*Started on 19 Dec 2020 at 3:30pm*"
      ]
    },
    {
      "cell_type": "code",
      "metadata": {
        "id": "DUibFAB8lYkT"
      },
      "source": [
        "import numpy as np"
      ],
      "execution_count": 123,
      "outputs": []
    },
    {
      "cell_type": "code",
      "metadata": {
        "id": "Ox4eqOgUnmtk"
      },
      "source": [
        "def calculate(my_list): \r\n",
        "  array=np.array(my_list).reshape(3,3)\r\n",
        "  size3=len(my_list)\r\n",
        "  if (size3<9):\r\n",
        "    return 'List must contain nine numbers'\r\n",
        "  else:\r\n",
        "    return {\r\n",
        "        'mean': [array.mean(axis=0),array.mean(axis=1),array.mean()],\r\n",
        "        'variance': [array.var(axis=0),array.var(axis=1),array.var()],\r\n",
        "        'standard deviation': [array.std(axis=0),array.std(axis=1),array.std()],\r\n",
        "        'max':[array.max(axis=0),array.max(axis=1),array.max()],\r\n",
        "        'min':[array.min(axis=0),array.min(axis=1),array.min()],\r\n",
        "        'sum':[array.sum(axis=0),array.sum(axis=1),array.sum()]\r\n",
        "    }"
      ],
      "execution_count": 124,
      "outputs": []
    },
    {
      "cell_type": "code",
      "metadata": {
        "colab": {
          "base_uri": "https://localhost:8080/"
        },
        "id": "coWAMgzqp43Y",
        "outputId": "f7b7950b-80bc-4408-b7a1-cef7e62733a3"
      },
      "source": [
        "calculate([1,2,3,4,5,6,7,8,9])"
      ],
      "execution_count": 125,
      "outputs": [
        {
          "output_type": "execute_result",
          "data": {
            "text/plain": [
              "{'max': [array([7, 8, 9]), array([3, 6, 9]), 9],\n",
              " 'mean': [array([4., 5., 6.]), array([2., 5., 8.]), 5.0],\n",
              " 'min': [array([1, 2, 3]), array([1, 4, 7]), 1],\n",
              " 'standard deviation': [array([2.44948974, 2.44948974, 2.44948974]),\n",
              "  array([0.81649658, 0.81649658, 0.81649658]),\n",
              "  2.581988897471611],\n",
              " 'sum': [array([12, 15, 18]), array([ 6, 15, 24]), 45],\n",
              " 'variance': [array([6., 6., 6.]),\n",
              "  array([0.66666667, 0.66666667, 0.66666667]),\n",
              "  6.666666666666667]}"
            ]
          },
          "metadata": {
            "tags": []
          },
          "execution_count": 125
        }
      ]
    },
    {
      "cell_type": "markdown",
      "metadata": {
        "id": "7xacpKEI4qUZ"
      },
      "source": [
        "*Completed on 19 Dec 2020 at 5:44pm*"
      ]
    }
  ]
}